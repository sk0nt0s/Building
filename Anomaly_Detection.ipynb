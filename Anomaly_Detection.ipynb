{
 "cells": [
  {
   "cell_type": "code",
   "execution_count": null,
   "metadata": {
    "collapsed": true,
    "pycharm": {
     "is_executing": true
    }
   },
   "outputs": [],
   "source": [
    "import numpy as np\n",
    "import pandas as pd\n",
    "import matplotlib.dates as mdates\n",
    "import holoviews as hv\n",
    "# from holoviews import opts\n",
    "# hv.extension('bokeh')\n",
    "# from bokeh.models import HoverTool\n",
    "# from IPython.display import HTML, display\n",
    "from sklearn.ensemble import IsolationForest\n",
    "\n",
    "# Ignore warnings\n",
    "import warnings\n",
    "warnings.filterwarnings(\"ignore\")"
   ]
  },
  {
   "cell_type": "code",
   "execution_count": null,
   "outputs": [],
   "source": [
    "# Read the data from the CSV file and create a dataframe\n",
    "df1 = pd.read_csv('datasets/Building_Base_Cooling.csv')\n",
    "df1"
   ],
   "metadata": {
    "collapsed": false,
    "pycharm": {
     "is_executing": true
    }
   }
  },
  {
   "cell_type": "code",
   "execution_count": null,
   "outputs": [],
   "source": [
    "# Read the data from the CSV file and create a dataframe\n",
    "df2 = pd.read_csv('datasets/Weather_Base_Cooling.csv')\n",
    "df2"
   ],
   "metadata": {
    "collapsed": false,
    "pycharm": {
     "is_executing": true
    }
   }
  },
  {
   "cell_type": "code",
   "execution_count": null,
   "outputs": [],
   "source": [
    "df = df1.loc[:, ['TIMESTAMP', 'T_Room_106']]\n",
    "df"
   ],
   "metadata": {
    "collapsed": false,
    "pycharm": {
     "is_executing": true
    }
   }
  },
  {
   "cell_type": "markdown",
   "source": [],
   "metadata": {
    "collapsed": false
   }
  },
  {
   "cell_type": "code",
   "execution_count": null,
   "outputs": [],
   "source": [
    "# Delete the first row\n",
    "second_row = df.iloc[0]\n",
    "\n",
    "new_columns = []\n",
    "for i in range(len(df.columns)):\n",
    "    new_columns.append(df.columns[i] + '_' + str(second_row[i]))\n",
    "df.columns = new_columns\n",
    "df = df.drop(df.index[0])\n",
    "df"
   ],
   "metadata": {
    "collapsed": false,
    "pycharm": {
     "is_executing": true
    }
   }
  },
  {
   "cell_type": "code",
   "execution_count": null,
   "outputs": [],
   "source": [
    "# Change data types to datetime and float\n",
    "df.columns = new_columns\n",
    "df = df.drop(df.index[0])\n",
    "df = df.rename(columns={df.columns[0]: 'timestamp'})\n",
    "df['timestamp'] = pd.to_datetime(df['timestamp'], format='%m/%d/%Y %H:%M')\n",
    "df.iloc[:, 1:] = df.iloc[:, 1:].astype(float)"
   ],
   "metadata": {
    "collapsed": false,
    "pycharm": {
     "is_executing": true
    }
   }
  },
  {
   "cell_type": "code",
   "execution_count": null,
   "outputs": [],
   "source": [
    "def overview(df: pd.DataFrame, timestamp_col: str = None) -> None:\n",
    "    print('Null Count:\\n', df.isnull().sum(),'\\n')\n",
    "    print('Data Types:\\n', df.dtypes)\n",
    "\n",
    "    if timestamp_col is not None:\n",
    "        print('\\nDate Range:\\n\\nStart:\\t',df[timestamp_col].min())\n",
    "        print('End:\\t',df[timestamp_col].max())\n",
    "        print('Days:\\t',(df[timestamp_col].max() - df[timestamp_col].min()))"
   ],
   "metadata": {
    "collapsed": false,
    "pycharm": {
     "is_executing": true
    }
   }
  },
  {
   "cell_type": "code",
   "execution_count": null,
   "outputs": [],
   "source": [
    "overview(df, timestamp_col='timestamp')"
   ],
   "metadata": {
    "collapsed": false,
    "pycharm": {
     "is_executing": true
    }
   }
  },
  {
   "cell_type": "markdown",
   "source": [],
   "metadata": {
    "collapsed": false
   }
  }
 ],
 "metadata": {
  "kernelspec": {
   "display_name": "Python 3",
   "language": "python",
   "name": "python3"
  },
  "language_info": {
   "codemirror_mode": {
    "name": "ipython",
    "version": 2
   },
   "file_extension": ".py",
   "mimetype": "text/x-python",
   "name": "python",
   "nbconvert_exporter": "python",
   "pygments_lexer": "ipython2",
   "version": "2.7.6"
  }
 },
 "nbformat": 4,
 "nbformat_minor": 0
}
